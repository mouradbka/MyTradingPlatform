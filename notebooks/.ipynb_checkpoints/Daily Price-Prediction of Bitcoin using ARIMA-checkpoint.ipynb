{
 "cells": [
  {
   "cell_type": "markdown",
   "id": "e122b911",
   "metadata": {},
   "source": [
    "# Daily Price-Prediction of Bitcoin using ARIMA\n",
    "***\n",
    "Authors: [Mourad Baptiste Karib](https://www.linkedin.com/in/datamouradkarib/), \n",
    "\n",
    "In this notebook, I go through a vanilla model used for **daily price-prediction of the Bitcoin**. \n",
    "\n",
    "I created a python package containing the different modules for the different parts of the data processing and ML design. You will find the code in the same folder. \n",
    "\n",
    "This is a first draft and I will progressively add new features. I inspired myself from the work of Paul Lindquist and used codes from his [repository](https://github.com/paul-lindquist/cryptocurrency_time_series). \n",
    "***"
   ]
  },
  {
   "cell_type": "markdown",
   "id": "28343e15",
   "metadata": {},
   "source": [
    "# Outline\n",
    "&nbsp;These are the different steps included in this notebook:\n",
    "1. Data Acquisition\n",
    "\n",
    "2.  Data processing\n",
    "\n",
    "3.  Statistical tests\n",
    "\n",
    "4. Arima prediction\n",
    "\n",
    "5. Future work "
   ]
  },
  {
   "cell_type": "code",
   "execution_count": 3,
   "id": "d550d5c5",
   "metadata": {},
   "outputs": [],
   "source": [
    "import sys\n",
    "import os\n",
    "\n",
    "#The modules I created to run the different parts of the process. \n",
    "sys.path.append('..')\n",
    "from MyTradingPlatform.DataPipeline.data_acquisition import get_historical_data, get_list_symbols, get_list_coins\n",
    "from MyTradingPlatform.DataPipeline.feature_engineering import resample, add_cols\n",
    "from MyTradingPlatform.DataPipeline.models import ARIMA_train, ARIMA_predict\n",
    "from MyTradingPlatform.DataPipeline.utils import set_binance_key,get_binance_key,set_binance_secret,get_binance_secret\n",
    "\n",
    "from binance import Client, ThreadedWebsocketManager, ThreadedDepthCacheManager\n",
    "\n",
    "\n",
    "import pandas as pd\n",
    "import numpy as np\n",
    "import math\n",
    "from datetime import datetime\n",
    "\n",
    "import mlflow\n",
    "mlflow.set_tracking_uri('http://localhost:5000')\n",
    "\n",
    "import mlflow.statsmodels"
   ]
  },
  {
   "cell_type": "markdown",
   "id": "1d9288af",
   "metadata": {},
   "source": [
    "# Data Acquisition\n",
    "First, we use get_list_symbols() that returns the lists of all symbols available on Binance and make sure we have the good symbol name:\n"
   ]
  },
  {
   "cell_type": "code",
   "execution_count": 4,
   "id": "4691f4a8",
   "metadata": {},
   "outputs": [
    {
     "data": {
      "text/plain": [
       "True"
      ]
     },
     "execution_count": 4,
     "metadata": {},
     "output_type": "execute_result"
    }
   ],
   "source": [
    "'BTCUSDT' in get_list_symbols()"
   ]
  },
  {
   "cell_type": "markdown",
   "id": "4175016d",
   "metadata": {},
   "source": [
    "Then we can get the historical data, choosing which frequency we want and since what time stamp. The function has default values for its parameters:\n",
    "\n",
    "- interval='1m',\n",
    "- symbol='BTCUSDT',\n",
    "- first_ts=None - we take all the data available. \n",
    "- binance_api_key=None,\n",
    "- binance_api_secret=None\n",
    "\n"
   ]
  },
  {
   "cell_type": "markdown",
   "id": "78ba2b69",
   "metadata": {},
   "source": [
    "# ! [ remember to delete the keys ] !"
   ]
  },
  {
   "cell_type": "code",
   "execution_count": 5,
   "id": "0197f313",
   "metadata": {},
   "outputs": [],
   "source": [
    "# df = get_historical_data(binance_api_key = ******, \\\n",
    "#                          binance_api_secret = '******',\\\n",
    "#                          interval = '5m')\n",
    "# df.to_csv('data/btc_all_210422.csv')\n",
    "\n",
    "df = pd.read_csv('data/btc_all_210422.csv',parse_dates=['OpenTime'] )\n",
    "df = df.set_index('OpenTime')"
   ]
  },
  {
   "cell_type": "markdown",
   "id": "6e9fcb69",
   "metadata": {},
   "source": [
    "### Data Processing\n",
    "\n",
    "The first thing we need to is to **resample** the data to have the price per day. "
   ]
  },
  {
   "cell_type": "code",
   "execution_count": 6,
   "id": "214864cb",
   "metadata": {},
   "outputs": [],
   "source": [
    "daily =  resample(df)"
   ]
  },
  {
   "cell_type": "markdown",
   "id": "1387e92c",
   "metadata": {},
   "source": [
    "Then we can **add the features** we calculated. You can get the full list in *MyTradingPlatform.DataPipeline.feature_engineering*."
   ]
  },
  {
   "cell_type": "code",
   "execution_count": 7,
   "id": "ee7c3993",
   "metadata": {},
   "outputs": [],
   "source": [
    "daily = add_cols(daily)"
   ]
  },
  {
   "cell_type": "markdown",
   "id": "19c50200",
   "metadata": {},
   "source": [
    "# Statistical tests"
   ]
  },
  {
   "cell_type": "markdown",
   "id": "5c965e2f",
   "metadata": {},
   "source": [
    "list of tests we can do to characterize a time serie analysis data:"
   ]
  },
  {
   "cell_type": "code",
   "execution_count": 8,
   "id": "63e63ba7",
   "metadata": {},
   "outputs": [
    {
     "data": {
      "text/html": [
       "<div>\n",
       "<style scoped>\n",
       "    .dataframe tbody tr th:only-of-type {\n",
       "        vertical-align: middle;\n",
       "    }\n",
       "\n",
       "    .dataframe tbody tr th {\n",
       "        vertical-align: top;\n",
       "    }\n",
       "\n",
       "    .dataframe thead th {\n",
       "        text-align: right;\n",
       "    }\n",
       "</style>\n",
       "<table border=\"1\" class=\"dataframe\">\n",
       "  <thead>\n",
       "    <tr style=\"text-align: right;\">\n",
       "      <th></th>\n",
       "      <th>Open</th>\n",
       "      <th>Close</th>\n",
       "      <th>Volume</th>\n",
       "      <th>log_open</th>\n",
       "      <th>log_close</th>\n",
       "      <th>return</th>\n",
       "      <th>close_1_prior</th>\n",
       "      <th>close_2_prior</th>\n",
       "      <th>close_3_prior</th>\n",
       "      <th>close_4_prior</th>\n",
       "      <th>...</th>\n",
       "      <th>momentum_50</th>\n",
       "      <th>momentum_200</th>\n",
       "      <th>volatility_7</th>\n",
       "      <th>volatility_30</th>\n",
       "      <th>volatility_50</th>\n",
       "      <th>volatility_200</th>\n",
       "      <th>volume_7</th>\n",
       "      <th>volume_14</th>\n",
       "      <th>volume_30</th>\n",
       "      <th>volume_50</th>\n",
       "    </tr>\n",
       "    <tr>\n",
       "      <th>OpenTime</th>\n",
       "      <th></th>\n",
       "      <th></th>\n",
       "      <th></th>\n",
       "      <th></th>\n",
       "      <th></th>\n",
       "      <th></th>\n",
       "      <th></th>\n",
       "      <th></th>\n",
       "      <th></th>\n",
       "      <th></th>\n",
       "      <th></th>\n",
       "      <th></th>\n",
       "      <th></th>\n",
       "      <th></th>\n",
       "      <th></th>\n",
       "      <th></th>\n",
       "      <th></th>\n",
       "      <th></th>\n",
       "      <th></th>\n",
       "      <th></th>\n",
       "      <th></th>\n",
       "    </tr>\n",
       "  </thead>\n",
       "  <tbody>\n",
       "    <tr>\n",
       "      <th>2018-03-07</th>\n",
       "      <td>10783.67</td>\n",
       "      <td>9925.22</td>\n",
       "      <td>28955.654245</td>\n",
       "      <td>9.285788</td>\n",
       "      <td>9.202834</td>\n",
       "      <td>-0.072939</td>\n",
       "      <td>9.285788</td>\n",
       "      <td>9.358728</td>\n",
       "      <td>9.343058</td>\n",
       "      <td>9.342247</td>\n",
       "      <td>...</td>\n",
       "      <td>-0.002963</td>\n",
       "      <td>0.004923</td>\n",
       "      <td>0.025570</td>\n",
       "      <td>0.025570</td>\n",
       "      <td>0.072872</td>\n",
       "      <td>0.062180</td>\n",
       "      <td>23219.705701</td>\n",
       "      <td>35351.060003</td>\n",
       "      <td>41052.305191</td>\n",
       "      <td>38394.790333</td>\n",
       "    </tr>\n",
       "    <tr>\n",
       "      <th>2018-03-08</th>\n",
       "      <td>9925.22</td>\n",
       "      <td>9233.24</td>\n",
       "      <td>50110.307140</td>\n",
       "      <td>9.202834</td>\n",
       "      <td>9.130565</td>\n",
       "      <td>-0.082954</td>\n",
       "      <td>9.202834</td>\n",
       "      <td>9.285788</td>\n",
       "      <td>9.358728</td>\n",
       "      <td>9.343058</td>\n",
       "      <td>...</td>\n",
       "      <td>-0.004841</td>\n",
       "      <td>0.004989</td>\n",
       "      <td>0.040415</td>\n",
       "      <td>0.040415</td>\n",
       "      <td>0.073451</td>\n",
       "      <td>0.062089</td>\n",
       "      <td>26116.764431</td>\n",
       "      <td>33782.835602</td>\n",
       "      <td>40680.230817</td>\n",
       "      <td>38207.348955</td>\n",
       "    </tr>\n",
       "    <tr>\n",
       "      <th>2018-03-09</th>\n",
       "      <td>9233.23</td>\n",
       "      <td>9200.99</td>\n",
       "      <td>41772.807568</td>\n",
       "      <td>9.130564</td>\n",
       "      <td>9.127066</td>\n",
       "      <td>-0.072269</td>\n",
       "      <td>9.130565</td>\n",
       "      <td>9.202834</td>\n",
       "      <td>9.285788</td>\n",
       "      <td>9.358728</td>\n",
       "      <td>...</td>\n",
       "      <td>-0.001455</td>\n",
       "      <td>0.004452</td>\n",
       "      <td>0.050812</td>\n",
       "      <td>0.050812</td>\n",
       "      <td>0.065260</td>\n",
       "      <td>0.062384</td>\n",
       "      <td>28384.117778</td>\n",
       "      <td>31926.500582</td>\n",
       "      <td>38722.940604</td>\n",
       "      <td>37572.935290</td>\n",
       "    </tr>\n",
       "    <tr>\n",
       "      <th>2018-03-10</th>\n",
       "      <td>9213.92</td>\n",
       "      <td>8829.99</td>\n",
       "      <td>62545.037522</td>\n",
       "      <td>9.128471</td>\n",
       "      <td>9.085909</td>\n",
       "      <td>-0.003499</td>\n",
       "      <td>9.127066</td>\n",
       "      <td>9.130565</td>\n",
       "      <td>9.202834</td>\n",
       "      <td>9.285788</td>\n",
       "      <td>...</td>\n",
       "      <td>-0.002856</td>\n",
       "      <td>0.003999</td>\n",
       "      <td>0.048775</td>\n",
       "      <td>0.048775</td>\n",
       "      <td>0.066024</td>\n",
       "      <td>0.062611</td>\n",
       "      <td>33885.955187</td>\n",
       "      <td>32337.831776</td>\n",
       "      <td>38828.606836</td>\n",
       "      <td>37824.817052</td>\n",
       "    </tr>\n",
       "    <tr>\n",
       "      <th>2018-03-11</th>\n",
       "      <td>8825.00</td>\n",
       "      <td>9521.05</td>\n",
       "      <td>38671.503733</td>\n",
       "      <td>9.085344</td>\n",
       "      <td>9.161260</td>\n",
       "      <td>-0.041157</td>\n",
       "      <td>9.085909</td>\n",
       "      <td>9.127066</td>\n",
       "      <td>9.130565</td>\n",
       "      <td>9.202834</td>\n",
       "      <td>...</td>\n",
       "      <td>-0.003506</td>\n",
       "      <td>0.004116</td>\n",
       "      <td>0.046938</td>\n",
       "      <td>0.046938</td>\n",
       "      <td>0.065864</td>\n",
       "      <td>0.062574</td>\n",
       "      <td>36316.029309</td>\n",
       "      <td>32132.364947</td>\n",
       "      <td>39923.463125</td>\n",
       "      <td>37891.679692</td>\n",
       "    </tr>\n",
       "  </tbody>\n",
       "</table>\n",
       "<p>5 rows × 33 columns</p>\n",
       "</div>"
      ],
      "text/plain": [
       "                Open    Close        Volume  log_open  log_close    return  \\\n",
       "OpenTime                                                                     \n",
       "2018-03-07  10783.67  9925.22  28955.654245  9.285788   9.202834 -0.072939   \n",
       "2018-03-08   9925.22  9233.24  50110.307140  9.202834   9.130565 -0.082954   \n",
       "2018-03-09   9233.23  9200.99  41772.807568  9.130564   9.127066 -0.072269   \n",
       "2018-03-10   9213.92  8829.99  62545.037522  9.128471   9.085909 -0.003499   \n",
       "2018-03-11   8825.00  9521.05  38671.503733  9.085344   9.161260 -0.041157   \n",
       "\n",
       "            close_1_prior  close_2_prior  close_3_prior  close_4_prior  ...  \\\n",
       "OpenTime                                                                ...   \n",
       "2018-03-07       9.285788       9.358728       9.343058       9.342247  ...   \n",
       "2018-03-08       9.202834       9.285788       9.358728       9.343058  ...   \n",
       "2018-03-09       9.130565       9.202834       9.285788       9.358728  ...   \n",
       "2018-03-10       9.127066       9.130565       9.202834       9.285788  ...   \n",
       "2018-03-11       9.085909       9.127066       9.130565       9.202834  ...   \n",
       "\n",
       "            momentum_50  momentum_200  volatility_7  volatility_30  \\\n",
       "OpenTime                                                             \n",
       "2018-03-07    -0.002963      0.004923      0.025570       0.025570   \n",
       "2018-03-08    -0.004841      0.004989      0.040415       0.040415   \n",
       "2018-03-09    -0.001455      0.004452      0.050812       0.050812   \n",
       "2018-03-10    -0.002856      0.003999      0.048775       0.048775   \n",
       "2018-03-11    -0.003506      0.004116      0.046938       0.046938   \n",
       "\n",
       "            volatility_50  volatility_200      volume_7     volume_14  \\\n",
       "OpenTime                                                                \n",
       "2018-03-07       0.072872        0.062180  23219.705701  35351.060003   \n",
       "2018-03-08       0.073451        0.062089  26116.764431  33782.835602   \n",
       "2018-03-09       0.065260        0.062384  28384.117778  31926.500582   \n",
       "2018-03-10       0.066024        0.062611  33885.955187  32337.831776   \n",
       "2018-03-11       0.065864        0.062574  36316.029309  32132.364947   \n",
       "\n",
       "               volume_30     volume_50  \n",
       "OpenTime                                \n",
       "2018-03-07  41052.305191  38394.790333  \n",
       "2018-03-08  40680.230817  38207.348955  \n",
       "2018-03-09  38722.940604  37572.935290  \n",
       "2018-03-10  38828.606836  37824.817052  \n",
       "2018-03-11  39923.463125  37891.679692  \n",
       "\n",
       "[5 rows x 33 columns]"
      ]
     },
     "execution_count": 8,
     "metadata": {},
     "output_type": "execute_result"
    }
   ],
   "source": [
    "daily.head()"
   ]
  },
  {
   "cell_type": "markdown",
   "id": "f5616c56",
   "metadata": {},
   "source": [
    "# Arima "
   ]
  },
  {
   "cell_type": "markdown",
   "id": "dfaf7f2f",
   "metadata": {},
   "source": [
    "### Pick the best model\n",
    "I ran a test for the different parameters to define which one were optimal for our data. You can find the tests in the other notebook"
   ]
  },
  {
   "cell_type": "code",
   "execution_count": null,
   "id": "6c68d907",
   "metadata": {},
   "outputs": [],
   "source": [
    "dfr = mlflow.search_runs(experiment_ids = [13])#, filter_string=\"metrics.rmse < 1\"), \n",
    "dfr.sort_values('metrics.rmse')\\\n",
    "    [['metrics.aics','metrics.rmse','params.q','params.p','params.d','params.train_size']].head()"
   ]
  },
  {
   "cell_type": "markdown",
   "id": "e616cd68",
   "metadata": {},
   "source": [
    "### Training"
   ]
  },
  {
   "cell_type": "code",
   "execution_count": null,
   "id": "9ced8b36",
   "metadata": {},
   "outputs": [],
   "source": [
    "fitmodel = ARIMA_train(daily['Close'], p = 3, d  = 0, q = 2, train_size=26)"
   ]
  },
  {
   "cell_type": "markdown",
   "id": "a9d87f15",
   "metadata": {},
   "source": [
    "### Predicting"
   ]
  },
  {
   "cell_type": "code",
   "execution_count": null,
   "id": "3875d112",
   "metadata": {},
   "outputs": [],
   "source": [
    "ARIMA_predict(daily['Close'], p = 3, d  = 0, q = 2)                "
   ]
  },
  {
   "cell_type": "markdown",
   "id": "3aaa3804",
   "metadata": {},
   "source": [
    "# Error analysis & Future work\n",
    "\n",
    "- The model fails at predicting changes. \n",
    "\n",
    "- Using other features that would help predict drastics changes. \n",
    "\n",
    "- We could investigate more the training size. "
   ]
  },
  {
   "cell_type": "code",
   "execution_count": null,
   "id": "2fdf05d8",
   "metadata": {},
   "outputs": [],
   "source": []
  },
  {
   "cell_type": "markdown",
   "id": "930aca70",
   "metadata": {},
   "source": [
    "# Conclusion"
   ]
  }
 ],
 "metadata": {
  "kernelspec": {
   "display_name": "Python 3 (ipykernel)",
   "language": "python",
   "name": "python3"
  },
  "language_info": {
   "codemirror_mode": {
    "name": "ipython",
    "version": 3
   },
   "file_extension": ".py",
   "mimetype": "text/x-python",
   "name": "python",
   "nbconvert_exporter": "python",
   "pygments_lexer": "ipython3",
   "version": "3.10.4"
  }
 },
 "nbformat": 4,
 "nbformat_minor": 5
}
